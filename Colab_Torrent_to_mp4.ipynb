{
  "nbformat": 4,
  "nbformat_minor": 0,
  "metadata": {
    "colab": {
      "provenance": [],
      "gpuType": "T4"
    },
    "kernelspec": {
      "name": "python3",
      "display_name": "Python 3"
    },
    "language_info": {
      "name": "python"
    },
    "accelerator": "GPU"
  },
  "cells": [
    {
      "cell_type": "markdown",
      "source": [
        "#STEP-1) Install libtorrent"
      ],
      "metadata": {
        "id": "NYvzvgmh_Qvl"
      }
    },
    {
      "cell_type": "code",
      "execution_count": null,
      "metadata": {
        "id": "v6SuX3nN_JBa"
      },
      "outputs": [],
      "source": [
        "!apt install python3-libtorrent"
      ]
    },
    {
      "cell_type": "markdown",
      "source": [
        "#STEP-2) Torrent-to-MP4\n",
        "\n",
        "0.   Connect to your Google-Drive\n",
        "1.   PASTE THE MAGENT LINK\n",
        "2.   SELECT THE FILES YOU WANT TO DOWNLOAD IN THE TORRENT AND ENTER 'done'\n",
        "\n",
        "\n"
      ],
      "metadata": {
        "id": "6Aj0iX3u_uCF"
      }
    },
    {
      "cell_type": "code",
      "source": [
        "import libtorrent as lt\n",
        "import time\n",
        "from tqdm import tqdm\n",
        "import os\n",
        "import subprocess\n",
        "import re\n",
        "from google.colab import drive\n",
        "\n",
        "# Function to convert seconds into hh:mm:ss format\n",
        "def convert_to_hms(seconds):\n",
        "    return time.strftime('%H:%M:%S', time.gmtime(seconds))\n",
        "\n",
        "# Mount Google Drive\n",
        "drive.mount('/content/drive')\n",
        "\n",
        "# Install ffmpeg\n",
        "!apt install -y ffmpeg\n",
        "\n",
        "# Set save path\n",
        "save_path = \"/content/temp\"\n",
        "final_path = \"/content/drive/My Drive/Torrent\"\n",
        "\n",
        "# Ask for magnet link\n",
        "magnet_link = input(\"Please enter the magnet link: \")\n",
        "\n",
        "# Create session and add magnet link\n",
        "ses = lt.session()\n",
        "params = {\n",
        "    'save_path': save_path,\n",
        "}\n",
        "handle = lt.add_magnet_uri(ses, magnet_link, params)\n",
        "\n",
        "# Wait for metadata to download\n",
        "print(\"Downloading Metadata...\")\n",
        "while not handle.has_metadata():\n",
        "    time.sleep(1)\n",
        "\n",
        "# Get torrent info\n",
        "torrent_info = handle.get_torrent_info()\n",
        "\n",
        "# Display list of files and their sizes\n",
        "print(\"Select the files you want to download:\")\n",
        "for i, file in enumerate(torrent_info.files()):\n",
        "    print(f\"{i+1}. {file.path} ({file.size / 1024 / 1024:.2f} MB)\")\n",
        "\n",
        "# Create list of selected files\n",
        "selected_files = []\n",
        "while True:\n",
        "    selection = input(\"Enter file numbers to download (comma-separated), or 'done' to start downloading: \")\n",
        "    if selection.lower() == 'done':\n",
        "        break\n",
        "    selected_files.extend(int(i) - 1 for i in selection.split(','))\n",
        "\n",
        "# Set file priorities\n",
        "for i in range(torrent_info.num_files()):\n",
        "    handle.file_priority(i, 1 if i in selected_files else 0)\n",
        "\n",
        "# Start downloading\n",
        "print(\"Downloading...\")\n",
        "pbar = tqdm(total=100, ncols=70)\n",
        "prev_progress = 0\n",
        "\n",
        "while handle.status().state != lt.torrent_status.seeding:\n",
        "    s = handle.status()\n",
        "    progress = s.progress * 100\n",
        "    pbar.set_description(\"Progress: %s%% | State: %s | Seeds: %s | Peers: %s | dl: %.2f kB/s | ul: %.2f kB/s\" % (\n",
        "        int(progress),\n",
        "        ['queued', 'checking', 'downloading metadata', 'downloading', 'finished', 'seeding', 'allocating', 'checking fastresume'][s.state],\n",
        "        s.num_seeds,\n",
        "        s.num_peers,\n",
        "        s.download_rate / 1000,\n",
        "        s.upload_rate / 1000\n",
        "    ))\n",
        "    increment = progress - prev_progress\n",
        "    pbar.update(increment)\n",
        "    prev_progress = progress\n",
        "    time.sleep(1)\n",
        "\n",
        "pbar.close()\n",
        "print(\"Download complete!\")\n",
        "\n",
        "# Convert video files to mp4\n",
        "for i in selected_files:\n",
        "    file = torrent_info.files().at(i)\n",
        "    if file.path.endswith(('.mkv', '.avi', '.mov')):\n",
        "        print(f\"Converting {file.path} to mp4...\")\n",
        "\n",
        "        # Get video duration\n",
        "        command = ['ffprobe', '-v', 'error', '-show_entries', 'format=duration', '-of', 'default=noprint_wrappers=1:nokey=1', os.path.join(save_path, file.path)]\n",
        "        duration = float(subprocess.check_output(command).decode('utf-8').strip())\n",
        "\n",
        "        # Start FFmpeg conversion process\n",
        "        command = ['ffmpeg', '-i', os.path.join(save_path, file.path), '-c:v', 'h264_nvenc', '-preset', 'slow', '-c:a', 'copy', '-c:s', 'mov_text', os.path.splitext(os.path.join(final_path, file.path))[0] + '.mp4']\n",
        "        process = subprocess.Popen(command, stdout=subprocess.PIPE, stderr=subprocess.STDOUT, universal_newlines=True)\n",
        "\n",
        "        # Initialize progress bar\n",
        "        pbar = tqdm(total=duration, bar_format='{l_bar}{bar}| {n_fmt}/{total_fmt} [{elapsed}<{remaining}]')\n",
        "\n",
        "        # Update progress bar based on FFmpeg output\n",
        "        for line in process.stdout:\n",
        "            match = re.search(r'time=(\\d+:\\d+:\\d+\\.\\d+)', line)\n",
        "            if match:\n",
        "                time_str = match.group(1)\n",
        "                hours, minutes, seconds = map(float, time_str.split(':'))\n",
        "                time_seconds = hours*3600 + minutes*60 + seconds\n",
        "                pbar.update(time_seconds - pbar.n)\n",
        "\n",
        "        pbar.close()\n",
        "\n",
        "        print(f\"Conversion of {file.path} complete!\")"
      ],
      "metadata": {
        "id": "TFeA3BKQ_2Vh"
      },
      "execution_count": null,
      "outputs": []
    }
  ]
}